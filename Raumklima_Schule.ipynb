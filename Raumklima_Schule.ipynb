{
  "nbformat": 4,
  "nbformat_minor": 0,
  "metadata": {
    "colab": {
      "name": "Raumklima_Schule.ipynb",
      "provenance": [],
      "collapsed_sections": []
    },
    "kernelspec": {
      "name": "python3",
      "display_name": "Python 3"
    },
    "language_info": {
      "name": "python"
    }
  },
  "cells": [
    {
      "cell_type": "markdown",
      "metadata": {
        "id": "tIgqJQ3pKMv9"
      },
      "source": [
        "Eine Raumklima Analyse anhand einer Clusteranalyse mit dem K-Means Verfahren"
      ]
    },
    {
      "cell_type": "markdown",
      "metadata": {
        "id": "scTTj6aoPA9r"
      },
      "source": [
        "Als erstes werden die benötigten Bibliotheken importiert:\n",
        "Bibliotheken: \n",
        "- Pandas \n",
        "- Matplotlib \n",
        "- Seaborn\n",
        "- NumPy\n",
        "Zusätzlich den Befehl: %matplotlib inline <- Bewirkt: Das die Plots innerhalb des Notizbuches erzeugt werden."
      ]
    },
    {
      "cell_type": "code",
      "metadata": {
        "id": "bQX-ZSgjKJmX"
      },
      "source": [
        " import matplotlib.pyplot as plt   \n",
        " import seaborn as sns; sns.set()  \n",
        " import numpy as np  \n",
        " import pandas as pd \n",
        " import scipy.cluster.hierarchy as shc  \n",
        " from sklearn.cluster import KMeans \n",
        " from sklearn.cluster import AgglomerativeClustering \n",
        " %matplotlib inline "
      ],
      "execution_count": 2,
      "outputs": []
    },
    {
      "cell_type": "markdown",
      "metadata": {
        "id": "N7MTwgtWKTc0"
      },
      "source": [
        "Es gibt eine CSV Datei mit den verschiedenen Raumklimas. Diese muss zuerst importiert werden.\n",
        "Die Daten werden in die Variable klima_data gespeichert."
      ]
    },
    {
      "cell_type": "code",
      "metadata": {
        "colab": {
          "base_uri": "https://localhost:8080/",
          "height": 363
        },
        "id": "fbLeKGDRKTtd",
        "outputId": "760e9bb6-a939-43a6-dbc5-f0b32f8e2697"
      },
      "source": [
        " # Lese CSV-Datei ein \n",
        " klima_data = pd.read_csv('raumklima.csv',sep=';', header=0)  \n",
        " \n",
        " # Merkmale/Variablen Feuchtigk. und Temp. separat speichern\n",
        " X = klima_data.iloc[:,[0,1]].copy() \n",
        " \n",
        " # Wahre Zuordnung zu den Kategorien speichern\n",
        " cluster_true=klima_data.iloc[:,2].copy() \n",
        " \n",
        " # Zeige ausgewählte Zeilen zur Kontrolle an \n",
        " klima_data.head(10)"
      ],
      "execution_count": 3,
      "outputs": [
        {
          "output_type": "execute_result",
          "data": {
            "text/html": [
              "<div>\n",
              "<style scoped>\n",
              "    .dataframe tbody tr th:only-of-type {\n",
              "        vertical-align: middle;\n",
              "    }\n",
              "\n",
              "    .dataframe tbody tr th {\n",
              "        vertical-align: top;\n",
              "    }\n",
              "\n",
              "    .dataframe thead th {\n",
              "        text-align: right;\n",
              "    }\n",
              "</style>\n",
              "<table border=\"1\" class=\"dataframe\">\n",
              "  <thead>\n",
              "    <tr style=\"text-align: right;\">\n",
              "      <th></th>\n",
              "      <th>Feuchte</th>\n",
              "      <th>Temp</th>\n",
              "      <th>Cluster</th>\n",
              "    </tr>\n",
              "  </thead>\n",
              "  <tbody>\n",
              "    <tr>\n",
              "      <th>0</th>\n",
              "      <td>42</td>\n",
              "      <td>21</td>\n",
              "      <td>behaglich</td>\n",
              "    </tr>\n",
              "    <tr>\n",
              "      <th>1</th>\n",
              "      <td>45</td>\n",
              "      <td>19</td>\n",
              "      <td>behaglich</td>\n",
              "    </tr>\n",
              "    <tr>\n",
              "      <th>2</th>\n",
              "      <td>52</td>\n",
              "      <td>19</td>\n",
              "      <td>behaglich</td>\n",
              "    </tr>\n",
              "    <tr>\n",
              "      <th>3</th>\n",
              "      <td>55</td>\n",
              "      <td>21</td>\n",
              "      <td>behaglich</td>\n",
              "    </tr>\n",
              "    <tr>\n",
              "      <th>4</th>\n",
              "      <td>53</td>\n",
              "      <td>22</td>\n",
              "      <td>behaglich</td>\n",
              "    </tr>\n",
              "    <tr>\n",
              "      <th>5</th>\n",
              "      <td>69</td>\n",
              "      <td>23</td>\n",
              "      <td>zu feucht</td>\n",
              "    </tr>\n",
              "    <tr>\n",
              "      <th>6</th>\n",
              "      <td>80</td>\n",
              "      <td>21</td>\n",
              "      <td>zu feucht</td>\n",
              "    </tr>\n",
              "    <tr>\n",
              "      <th>7</th>\n",
              "      <td>81</td>\n",
              "      <td>23</td>\n",
              "      <td>zu feucht</td>\n",
              "    </tr>\n",
              "    <tr>\n",
              "      <th>8</th>\n",
              "      <td>73</td>\n",
              "      <td>25</td>\n",
              "      <td>zu feucht</td>\n",
              "    </tr>\n",
              "    <tr>\n",
              "      <th>9</th>\n",
              "      <td>75</td>\n",
              "      <td>25</td>\n",
              "      <td>zu feucht</td>\n",
              "    </tr>\n",
              "  </tbody>\n",
              "</table>\n",
              "</div>"
            ],
            "text/plain": [
              "   Feuchte  Temp    Cluster\n",
              "0       42    21  behaglich\n",
              "1       45    19  behaglich\n",
              "2       52    19  behaglich\n",
              "3       55    21  behaglich\n",
              "4       53    22  behaglich\n",
              "5       69    23  zu feucht\n",
              "6       80    21  zu feucht\n",
              "7       81    23  zu feucht\n",
              "8       73    25  zu feucht\n",
              "9       75    25  zu feucht"
            ]
          },
          "metadata": {
            "tags": []
          },
          "execution_count": 3
        }
      ]
    },
    {
      "cell_type": "markdown",
      "metadata": {
        "id": "1LYMeiv-Kfyi"
      },
      "source": [
        "Mit der Matplotlib Bibliothek (plt) können die Daten visualisiert werden in einem Diagramm."
      ]
    },
    {
      "cell_type": "code",
      "metadata": {
        "colab": {
          "base_uri": "https://localhost:8080/",
          "height": 319
        },
        "id": "sXaVphWiKgGi",
        "outputId": "42ec17a6-06db-4145-8316-c6548daf3c92"
      },
      "source": [
        " X = np.array(X) # Typkonvertierung: DataFrame->Array  \n",
        " print(type(X))  \n",
        " # Daten visualisieren  \n",
        " plt.scatter(X[:,0], X[:,1],s=40);  \n",
        " plt.title('Raumklima-Daten als Scatter-Plot')  \n",
        " plt.xlabel('Feuchtigkeit (%)');plt.ylabel('Temperatur ()');  "
      ],
      "execution_count": 4,
      "outputs": [
        {
          "output_type": "stream",
          "text": [
            "<class 'numpy.ndarray'>\n"
          ],
          "name": "stdout"
        },
        {
          "output_type": "display_data",
          "data": {
            "image/png": "[encoded data removed]",
            "text/plain": [
              "<Figure size 432x288 with 1 Axes>"
            ]
          },
          "metadata": {
            "tags": [],
            "needs_background": "light"
          }
        }
      ]
    },
    {
      "cell_type": "markdown",
      "metadata": {
        "id": "FeUMin5LKjX2"
      },
      "source": [
        "Die Clusteranalyse wird mittels der KMeans-Funktion aus dem sklearn.cluster-Paket der scikit-learn-Bibliothek durchgeführt.\n",
        "Anschliessend wird das array ausgegeben"
      ]
    },
    {
      "cell_type": "code",
      "metadata": {
        "colab": {
          "base_uri": "https://localhost:8080/"
        },
        "id": "bOCe8s3aKjv0",
        "outputId": "e113dee8-cd59-453d-f159-4b4f1e7b9495"
      },
      "source": [
        " #Anzahl der Zentren festlegen\n",
        " kmeans = KMeans(n_clusters=3) \n",
        " \n",
        " # Vorhersage mittels K-Means-Verfahren\n",
        " kmeans.fit(X)\n",
        " y_kmeans = kmeans.predict(X)\n",
        " \n",
        " # vorhergesagte Zuordnungen der Merkmalskombinationen zu den geschätzten Zentren\n",
        " y_kmeans"
      ],
      "execution_count": 5,
      "outputs": [
        {
          "output_type": "execute_result",
          "data": {
            "text/plain": [
              "array([2, 2, 2, 2, 2, 0, 0, 0, 0, 0, 1, 1, 1, 1, 1], dtype=int32)"
            ]
          },
          "metadata": {
            "tags": []
          },
          "execution_count": 5
        }
      ]
    },
    {
      "cell_type": "markdown",
      "metadata": {
        "id": "TDxA9cP5KmdS"
      },
      "source": [
        "Nun werden die Daten den 3 verschiedenen Clustern zugewiesen."
      ]
    },
    {
      "cell_type": "code",
      "metadata": {
        "colab": {
          "base_uri": "https://localhost:8080/",
          "height": 372
        },
        "id": "zEsTJs35KmuD",
        "outputId": "5a4b13a6-fc0c-41c6-fa7f-4f427eccfeed"
      },
      "source": [
        " # Daten visualisieren: Merkmale\n",
        " plt.scatter(X[:, 0], X[:, 1], c=y_kmeans, s=40, cmap='magma')\n",
        " \n",
        " # Daten visualisieren: Zentren\n",
        " centers = kmeans.cluster_centers_\n",
        " plt.scatter(centers[:, 0], centers[:, 1], c='black', s=60, alpha=0.7);\n",
        " \n",
        " plt.title(\"Raumklima\")\n",
        " plt.xlabel('Feuchtigkeit (%)');plt.ylabel('Temperatur ()'); \n",
        " \n",
        " # Merkmalswerte der Zentren ausgeben\n",
        " print('Merkmalswerte der Zentren:')  \n",
        " print(centers)  "
      ],
      "execution_count": 6,
      "outputs": [
        {
          "output_type": "stream",
          "text": [
            "Merkmalswerte der Zentren:\n",
            "[[75.6 23.4]\n",
            " [25.  15. ]\n",
            " [49.4 20.4]]\n"
          ],
          "name": "stdout"
        },
        {
          "output_type": "display_data",
          "data": {
            "image/png": "[encoded data removed]",
            "text/plain": [
              "<Figure size 432x288 with 1 Axes>"
            ]
          },
          "metadata": {
            "tags": [],
            "needs_background": "light"
          }
        }
      ]
    },
    {
      "cell_type": "markdown",
      "metadata": {
        "id": "sYEqGQm-Ks1K"
      },
      "source": [
        "Clusteranalyse mittels Hierachierschem Modell anhand eines Dendogrammes"
      ]
    },
    {
      "cell_type": "code",
      "metadata": {
        "colab": {
          "base_uri": "https://localhost:8080/",
          "height": 450
        },
        "id": "1zK5S5uPKtOV",
        "outputId": "e0d87c19-e0d4-4e54-b058-00e0da7fd2c9"
      },
      "source": [
        " plt.figure(figsize=(10, 7))\n",
        " plt.title(\"Dendrogramm\")\n",
        " dend = shc.dendrogram(shc.linkage(X, method='ward'))"
      ],
      "execution_count": 7,
      "outputs": [
        {
          "output_type": "display_data",
          "data": {
            "image/png": "[encoded data removed]",
            "text/plain": [
              "<Figure size 720x504 with 1 Axes>"
            ]
          },
          "metadata": {
            "tags": [],
            "needs_background": "light"
          }
        }
      ]
    },
    {
      "cell_type": "markdown",
      "metadata": {
        "id": "DADzzTYbKxca"
      },
      "source": [
        "Die detaillierte Clusteranalyse wird mittels der AgglomerativeClustering aus dem sklearn.cluster-Paket der scikit-learn-Bibliothek durchgeführt. \n"
      ]
    },
    {
      "cell_type": "code",
      "metadata": {
        "colab": {
          "base_uri": "https://localhost:8080/"
        },
        "id": "c-cwPtsiKxx_",
        "outputId": "4df308aa-f59e-4a80-9891-2a3642aaab3f"
      },
      "source": [
        " # hierarchisches Modell festlegen, inkl. Anzahl der Cluster\n",
        " cluster = AgglomerativeClustering(n_clusters=3, affinity='euclidean', linkage='ward')\n",
        " \n",
        " # Vorhersage mittels des hierarchischen Modells\n",
        " cluster = cluster.fit(X)\n",
        " y_cluster = cluster.fit_predict(X)\n",
        " \n",
        " # vorhergesagte Zuordnungen der Merkmalskombinationen zu den geschätzten Zentren\n",
        " y_cluster #or:\n",
        " # print(cluster.labels_)"
      ],
      "execution_count": 8,
      "outputs": [
        {
          "output_type": "execute_result",
          "data": {
            "text/plain": [
              "array([0, 0, 0, 0, 0, 1, 1, 1, 1, 1, 2, 2, 2, 2, 2])"
            ]
          },
          "metadata": {
            "tags": []
          },
          "execution_count": 8
        }
      ]
    },
    {
      "cell_type": "markdown",
      "metadata": {
        "id": "USpWDmmNK0TC"
      },
      "source": [
        "Das Ergebnis der Clusteranalyse, d.h. die Zuordnung der Beobachtungen zu den drei möglichen Zentren/Clustern, wird als Plot dargestellt. "
      ]
    },
    {
      "cell_type": "code",
      "metadata": {
        "colab": {
          "base_uri": "https://localhost:8080/",
          "height": 319
        },
        "id": "_Z_7NbIXK03s",
        "outputId": "d9f2f271-cdd6-4f62-86bc-2670b61b77d1"
      },
      "source": [
        " # Daten visualisieren: Merkmale\n",
        " plt.scatter(X[:, 0], X[:, 1], c=cluster.labels_, s=40, cmap='rainbow')\n",
        " \n",
        " plt.title(\"Raumklima\")\n",
        " plt.xlabel(\"Luftfeuchtigkeit(%)\")\n",
        " plt.ylabel(\"Temperatur(Celsius)\")"
      ],
      "execution_count": 9,
      "outputs": [
        {
          "output_type": "execute_result",
          "data": {
            "text/plain": [
              "Text(0, 0.5, 'Temperatur(Celsius)')"
            ]
          },
          "metadata": {
            "tags": []
          },
          "execution_count": 9
        },
        {
          "output_type": "display_data",
          "data": {
            "image/png": "[encoded data removed]",
            "text/plain": [
              "<Figure size 432x288 with 1 Axes>"
            ]
          },
          "metadata": {
            "tags": [],
            "needs_background": "light"
          }
        }
      ]
    }
  ]
}